{
  "nbformat": 4,
  "nbformat_minor": 0,
  "metadata": {
    "colab": {
      "provenance": [],
      "collapsed_sections": [
        "wjQRIbNe9GQr"
      ]
    },
    "kernelspec": {
      "name": "python3",
      "display_name": "Python 3"
    },
    "language_info": {
      "name": "python"
    }
  },
  "cells": [
    {
      "cell_type": "markdown",
      "source": [
        "# Python OOPs Questions\n",
        "\n"
      ],
      "metadata": {
        "id": "wjQRIbNe9GQr"
      }
    },
    {
      "cell_type": "markdown",
      "source": [
        "**1.What is Object-Oriented Programming (OOP)?**\n",
        "\n",
        "ans-Object-Oriented Programming (OOP) is a programming paradigm based on the concept of \"objects.\" These objects can contain data, known as attributes (or properties), and code, known as methods (or functions), that operate on the data. OOP allows you to organize and structure your programs into modular and reusable components."
      ],
      "metadata": {
        "id": "73Mu1J8DJ7CK"
      }
    },
    {
      "cell_type": "markdown",
      "source": [
        "**2.What is a class in OOP?**\n",
        "\n",
        "ans-A class in Object-Oriented Programming (OOP) serves as a blueprint or template for creating objects. It defines the properties (attributes) and behaviors (methods) that the objects of the class will have. You can think of it as a mold for shaping objects with the same structure and functionality."
      ],
      "metadata": {
        "id": "Vq61UbWOKf2k"
      }
    },
    {
      "cell_type": "markdown",
      "source": [
        "**3.What is an object in OOP?**\n",
        "\n",
        "ans-An object in Object-Oriented Programming (OOP) is an instance of a class. If a class is the blueprint, the object is the actual thing created from that blueprint. It represents a real-world entity with specific properties (attributes) and behaviors (methods)."
      ],
      "metadata": {
        "id": "L6_k4MbwK5cz"
      }
    },
    {
      "cell_type": "markdown",
      "source": [
        "**4.What is the difference between abstraction and encapsulation?**\n",
        "\n",
        "ans-\n",
        " 1. Abstraction\n",
        "\n",
        "* Definition: Abstraction is the process of hiding the complexities of a system and showing only the essential features or functionality to the user.\n",
        "\n",
        "* Purpose: It focuses on what an object does, rather than how it does it.\n",
        "\n",
        "* How It Works: It is typically achieved through abstract classes or interfaces in programming. These define the functionality without providing the implementation.\n",
        "\n",
        "2. Encapsulation\n",
        "* Definition: Encapsulation is the bundling of data (attributes) and methods (functions) that operate on the data into a single unit (a class). It restricts direct access to some components, usually by using access modifiers like private, protected, or public.\n",
        "\n",
        "* Purpose: It focuses on controlling access to an object’s internal state, ensuring data security and integrity.\n",
        "\n",
        "* How It Works: By providing public getter and setter methods, you can allow controlled access to private attributes."
      ],
      "metadata": {
        "id": "NExuRGfKLIEv"
      }
    },
    {
      "cell_type": "markdown",
      "source": [
        "**5.What are dunder methods in Python?**\n",
        "\n",
        "ans-Dunder methods in Python, short for \"double underscore methods,\" are special methods that have double underscores (__) at the beginning and end of their names. They are also known as magic methods or special methods. These methods are used to define and customize the behavior of Python objects in specific situations."
      ],
      "metadata": {
        "id": "A2Dz0ACJL6Uh"
      }
    },
    {
      "cell_type": "markdown",
      "source": [
        "**6.Explain the concept of inheritance in OOP**\n",
        "\n",
        "ans-Inheritance is one of the core concepts in Object-Oriented Programming (OOP). It allows a class (called the child class or subclass) to inherit attributes and methods from another class (called the parent class or superclass). This promotes code reuse and helps in building a hierarchical relationship between classes."
      ],
      "metadata": {
        "id": "5kYGnn2cMMCI"
      }
    },
    {
      "cell_type": "markdown",
      "source": [
        "**7.What is polymorphism in OOP?**\n",
        "\n",
        "ans-Polymorphism in Object-Oriented Programming (OOP) is the ability of objects or methods to take on many forms. The term itself comes from the Greek words \"poly\" (meaning many) and \"morph\" (meaning form). Polymorphism allows the same interface, method, or operator to behave differently based on the object or context in which it is used."
      ],
      "metadata": {
        "id": "FPLaUlOXMqgF"
      }
    },
    {
      "cell_type": "markdown",
      "source": [
        "**8.How is encapsulation achieved in Python?**\n",
        "\n",
        "ans-Encapsulation in Python is achieved by bundling the data (attributes) and the methods (functions) that operate on that data into a single class. It also involves controlling access to the attributes and methods to protect the integrity of the data and ensure proper usage."
      ],
      "metadata": {
        "id": "-jkWwgBEM6W4"
      }
    },
    {
      "cell_type": "markdown",
      "source": [
        "**9.What is a constructor in Python?**\n",
        "\n",
        "ans-A constructor in Python is a special method used to initialize objects when they are created. Its main purpose is to set up the object's attributes and provide initial values. The constructor is defined using the special dunder method __init__(), and it is automatically called whenever a new object is instantiated."
      ],
      "metadata": {
        "id": "Bea8fHq6NfeL"
      }
    },
    {
      "cell_type": "markdown",
      "source": [
        "**10.What are class and static methods in Python?**\n",
        "\n",
        "ans-\n",
        "* class method in Python is a method that is bound to the class itself rather than to an instance of the class. It works with class-level attributes and is commonly used to manipulate or access class-wide data.\n",
        "* A static method in Python is a method that belongs to a class but doesn’t require access to the class or its instances. It is essentially a function that is defined inside a class and logically associated with that class, but it doesn’t interact with instance attributes (self) or class attributes (cls)."
      ],
      "metadata": {
        "id": "3QpGUp2-NgCh"
      }
    },
    {
      "cell_type": "markdown",
      "source": [
        "**11.What is method overloading in Python?**\n",
        "\n",
        "ans-Method overloading in Python refers to the ability to define multiple methods with the same name but different parameters. However, Python doesn't support traditional method overloading like some other languages (e.g., Java or C++) where methods can be distinguished by their parameter types or count."
      ],
      "metadata": {
        "id": "yfGW_os5DR6O"
      }
    },
    {
      "cell_type": "markdown",
      "source": [
        "**12.What is method overriding in OOP?**\n",
        "\n",
        "ans- Method overriding in object-oriented programming (OOP) occurs when a subclass provides a specific implementation for a method that is already defined in its parent class. The overriding method in the subclass must have the same name, parameters, and return type (if applicable) as the method in the parent class. This allows the subclass to tailor or extend the behavior of the inherited method."
      ],
      "metadata": {
        "id": "_pvigXYxDST6"
      }
    },
    {
      "cell_type": "markdown",
      "source": [
        "**13.What is a property decorator in Python?**\n",
        "\n",
        "ans- The  decorator in Python is a convenient way to define a method as a property, allowing you to access it like an attribute but still keep control over its behavior. It allows you to encapsulate instance attributes and manage their values dynamically, without directly exposing them."
      ],
      "metadata": {
        "id": "iQALWi9sDSvb"
      }
    },
    {
      "cell_type": "markdown",
      "source": [
        "**14.Why is polymorphism important in OOP?**\n",
        "\n",
        "ans-Polymorphism is a key concept in Object-Oriented Programming (OOP) because it enhances flexibility, reusability, and scalability in code. Here's why it's important:\n",
        "\n",
        "1. **Code Reusability:**\n",
        "Polymorphism allows you to write code that works with objects of different types, as long as they share a common interface or base class. This reduces code duplication and encourages cleaner, more general implementations.\n",
        "2. **Interface Consistency:**\n",
        "It enables you to design systems where different classes can be used interchangeably through a common interface. This is particularly useful when dealing with collections of objects.\n",
        "3. **Ease of Maintenance and Extensibility:**\n",
        "You can add new classes that implement existing interfaces or inherit from base classes without changing the existing code. This makes it easier to extend your system.\n",
        "4. **Improves Abstraction:**\n",
        "You can think in terms of high-level behaviors instead of worrying about specific object types. This helps in designing loosely coupled systems.\n",
        "\n",
        "\n"
      ],
      "metadata": {
        "id": "EBD_voLKDTHr"
      }
    },
    {
      "cell_type": "markdown",
      "source": [
        "**15.What is an abstract class in Python?**\n",
        "\n",
        "ans-An abstract class in Python is a class that cannot be instantiated on its own and is meant to be inherited by other classes. It typically contains one or more abstract methods, which are method declarations without an implementation. Subclasses must implement these methods.\n",
        "\n",
        "In Python, you define abstract classes using the abc module (stands for Abstract Base Classes)."
      ],
      "metadata": {
        "id": "-btlvpIlDThB"
      }
    },
    {
      "cell_type": "markdown",
      "source": [
        "**16.What are the advantages of OOP?**\n",
        "\n",
        "ans-Object-Oriented Programming (OOP) offers several powerful advantages that make it a popular programming paradigm, especially for building large, complex, and scalable software systems.\n",
        "\n",
        "Here’s a breakdown of the main advantages of OOP:\n",
        "\n",
        "1. **Reusability:**\n",
        "You can reuse existing code through inheritance.\n",
        "\n",
        "Once a class is written, it can be extended without rewriting or duplicating code.\n",
        "\n",
        "Example: A base class Vehicle can be reused to create Car, Bike, etc.\n",
        "2. **Modularity:**\n",
        "Code is organized into objects and classes, which makes the program easier to manage and divide into logical parts.\n",
        "\n",
        "Each object manages its own data and behavior.\n",
        "3. **Encapsulation:**\n",
        "* Objects hide their internal data and only expose what is necessary via public methods.\n",
        "\n",
        "* This makes your code more secure and easier to maintain by protecting internal states.\n",
        "4. **Polymorphism:**\n",
        "* Allows you to use a unified interface for different data types or classes.\n",
        "\n",
        "* Makes code more flexible and dynamic, especially useful in extensible systems."
      ],
      "metadata": {
        "id": "qdCvbDOcIK6P"
      }
    },
    {
      "cell_type": "markdown",
      "source": [
        "**17.What is the difference between a class variable and an instance variable?**\n",
        "\n",
        "ans-\n",
        "* **Class Variable:**\n",
        "1. Belongs to the class itself, not to any one object.\n",
        "\n",
        "2. Shared across all instances of the class.\n",
        "\n",
        "3. Usually used for constants or values common to all objects.\n",
        "* **Instance Variable:**\n",
        "1. Belongs to the specific object (instance).\n",
        "\n",
        "2. Unique to each object.\n",
        "\n",
        "3. Defined using self, usually inside __init__."
      ],
      "metadata": {
        "id": "Vdyrq9RJDUPZ"
      }
    },
    {
      "cell_type": "markdown",
      "source": [
        "**18. What is multiple inheritance in Python?**\n",
        "\n",
        "ans- In Python, multiple inheritance is a feature that allows a class to inherit attributes and methods from more than one parent class. This can be very useful when you want to create a class that combines the functionality of multiple existing classes."
      ],
      "metadata": {
        "id": "89K-kOnOINpx"
      }
    },
    {
      "cell_type": "markdown",
      "source": [
        "**19. Explain the purpose of ‘’__str__’ and ‘__repr__’ ‘ methods in Python?**\n",
        "\n",
        "ans-Great question! __str__ and __repr__ are special methods in Python that control how objects are represented as strings—very useful for debugging, logging, and printing.\n",
        "* **__str__ – Human-Readable String :**\n",
        "\n",
        "1. Called by the str() function or print().\n",
        "\n",
        "2. Meant to return a nicely formatted, readable string.\n",
        "\n",
        "3. Used when you want a user-friendly display.\n",
        "\n",
        "* **__repr__ – Developer-Oriented String :**\n",
        "1. Called by the repr() function or in interactive sessions (e.g., typing the object name in the console).\n",
        "\n",
        "2. Meant to return an unambiguous string that can (ideally) recreate the object.\n",
        "\n",
        "3. Used for debugging and development.\n"
      ],
      "metadata": {
        "id": "foG8mWM9KWy-"
      }
    },
    {
      "cell_type": "markdown",
      "source": [
        "**20.What is the significance of the ‘super()’ function in Python?**\n",
        "\n",
        "ans-'super()' used to call methods from a parent (or superclass) in a child (or subclass). This is especially important in inheritance scenarios.\n",
        "* **Why Use super()**\n",
        "1. To reuse parent class methods without hardcoding the parent class name\n",
        "\n",
        "2. To support multiple inheritance and follow MRO (Method Resolution Order)\n",
        "\n",
        "3. To help avoid duplicating code in subclasses"
      ],
      "metadata": {
        "id": "dwJwB0h_KXVN"
      }
    },
    {
      "cell_type": "markdown",
      "source": [
        "**21.What is the significance of the __del__ method in Python?**\n",
        "\n",
        "ans- The __del__ method in Python is a special method called a destructor. It's triggered when an object is about to be destroyed, i.e., when it’s no longer referenced and is being garbage collected.\n",
        "\n",
        "* **Purpose of __del__:**\n",
        "1. To perform cleanup tasks before an object is removed from memory.\n",
        "\n",
        "2. Think of it like a \"goodbye\" method for an object—useful for:\n",
        "\n",
        " * Closing files\n",
        "\n",
        " * Releasing network or database connections\n",
        "\n",
        " * Logging destruction"
      ],
      "metadata": {
        "id": "OSbue1YlKXus"
      }
    },
    {
      "cell_type": "markdown",
      "source": [
        "**22.What is the difference between @staticmethod and @classmethod in Python?**\n",
        "\n",
        "ans-\n",
        " 1. **@staticmethod :**\n",
        "  * Doesn’t take the self or cls parameter.\n",
        "\n",
        "  * Doesn’t know anything about the class or instance.\n",
        "\n",
        "  * Acts like a regular function, just scoped inside a class.\n",
        "\n",
        "  * Used when you want a utility function that’s logically related to the class, but doesn't need access to class or instance data.\n",
        "\n",
        "2. **@classmethod:**\n",
        "  * Takes cls as the first parameter (not self).\n",
        "\n",
        "  * Knows about the class it's called on, not a specific instance.\n",
        "\n",
        "  * Used when the method needs to work with the class itself—e.g., creating new instances, accessing/modifying class variables."
      ],
      "metadata": {
        "id": "SsZzuyB1KYPC"
      }
    },
    {
      "cell_type": "markdown",
      "source": [
        "**23. How does polymorphism work in Python with inheritance?**\n",
        "\n",
        "ans- Polymorphism in Python with inheritance means that objects of different classes can be treated through a common interface, typically provided by a parent class.\n",
        "\n",
        "* **How It Works:**\n",
        "  * You define a base class with a method.\n",
        "\n",
        "  * Subclasses override that method with their own implementation.\n",
        "\n",
        "  * You can call the method through a reference to the base class, and Python automatically calls the correct version at runtime — this is dynamic polymorphism."
      ],
      "metadata": {
        "id": "ZaerVGBkRGqf"
      }
    },
    {
      "cell_type": "markdown",
      "source": [
        "**24.What is method chaining in Python OOP?**\n",
        "\n",
        "ans- Method chaining in Python Object-Oriented Programming (OOP) refers to the technique of calling multiple methods on the same object in a single line of code. This is made possible by having each method return the object itself (usually done using return self ), allowing to chain the next method call directly to the previous one."
      ],
      "metadata": {
        "id": "S-wtt1-WRHI0"
      }
    },
    {
      "cell_type": "markdown",
      "source": [
        "**25.What is the purpose of the __call__ method in Python?**\n",
        "\n",
        "ans - The  method in Python allows an object of a class to be used as if it were a function. When implemented in a class, this special method makes an instance of the class callable, enabling the object to be \"called\" with parentheses, just like you would call a function.\n",
        "* **Purposes:**\n",
        "  * **Function-like Behavior:** It allows an object to act like a function, improving code readability and design flexibility.\n",
        "\n",
        "  * **capsulation:** You can encapsulate the logic in the class while providing a simple, function-like interface for users.\n",
        "\n",
        "  * **Dynamic Behavior:** You can define custom behaviors when an object is \"called,\" depending on the class's attributes or state.\n",
        "\n"
      ],
      "metadata": {
        "id": "C68H1tYWRHt1"
      }
    },
    {
      "cell_type": "markdown",
      "source": [
        "# Practical Questions"
      ],
      "metadata": {
        "id": "Y9cDjap19BBF"
      }
    },
    {
      "cell_type": "markdown",
      "source": [
        "**1. Create a parent class Animal with a method speak() that prints a generic message. Create a child class Dog\n",
        "that overrides the speak() method to print \"Bark!\".**"
      ],
      "metadata": {
        "id": "FIxXBZOD844G"
      }
    },
    {
      "cell_type": "code",
      "source": [
        "class Animal:\n",
        "    def speak(self):\n",
        "        print(\"This is a generic animal sound.\")\n",
        "\n",
        "class dog(Animal):\n",
        "    def speak(self):\n",
        "        print(\"bark!\")\n",
        "\n",
        "generic_animal = Animal()\n",
        "generic_animal.speak()\n",
        "\n",
        "dog_instance = dog()\n",
        "dog_instance.speak()\n",
        "\n",
        "\n"
      ],
      "metadata": {
        "id": "vFjgYOdXOouB",
        "colab": {
          "base_uri": "https://localhost:8080/"
        },
        "outputId": "9b584479-a265-49c1-ad6f-f3b644a2e769"
      },
      "execution_count": null,
      "outputs": [
        {
          "output_type": "stream",
          "name": "stdout",
          "text": [
            "This is a generic animal sound.\n",
            "bark!\n"
          ]
        }
      ]
    },
    {
      "cell_type": "markdown",
      "source": [
        "**2.Write a program to create an abstract class Shape with a method area(). Derive classes Circle and Rectangle\n",
        "from it and implement the area() method in both.**"
      ],
      "metadata": {
        "id": "4yepSJl39m8S"
      }
    },
    {
      "cell_type": "code",
      "execution_count": null,
      "metadata": {
        "id": "tKltM-9hJsWZ",
        "colab": {
          "base_uri": "https://localhost:8080/"
        },
        "outputId": "360a4603-1cfb-49d7-ca5d-6e70a6bb279d"
      },
      "outputs": [
        {
          "output_type": "stream",
          "name": "stdout",
          "text": [
            "Circle area: 78.5\n",
            "Rectangle area: 24\n"
          ]
        }
      ],
      "source": [
        "from abc import ABC, abstractmethod\n",
        "\n",
        "# Abstract class Shape\n",
        "class Shape(ABC):\n",
        "    @abstractmethod\n",
        "    def area(self):\n",
        "        pass\n",
        "\n",
        "# Circle class\n",
        "class Circle(Shape):\n",
        "    def __init__(self, radius):\n",
        "        self.radius = radius\n",
        "\n",
        "    def area(self):\n",
        "        return 3.14 * self.radius**2\n",
        "\n",
        "# Rectangle class\n",
        "class Rectangle(Shape):\n",
        "    def __init__(self, length, width):\n",
        "        self.length = length\n",
        "        self.width = width\n",
        "\n",
        "    def area(self):\n",
        "        return self.length * self.width\n",
        "\n",
        "# Example usage\n",
        "print(\"Circle area:\", Circle(5).area())\n",
        "print(\"Rectangle area:\", Rectangle(4, 6).area())"
      ]
    },
    {
      "cell_type": "markdown",
      "source": [
        "**3.Implement a multi-level inheritance scenario where a class Vehicle has an attribute type. Derive a class Car\n",
        "and further derive a class ElectricCar that adds a battery attribute.**"
      ],
      "metadata": {
        "id": "NRxwfMfGA3tr"
      }
    },
    {
      "cell_type": "code",
      "source": [
        "class vehicle :\n",
        "    def __init__(self,vehicle_type):\n",
        "        self.vehicle_type = vehicle_type\n",
        "\n",
        "class car(vehicle):\n",
        "    def __init__(self,vehicle_type,brand):\n",
        "        super().__init__(vehicle_type)\n",
        "        self.brand = brand\n",
        "\n",
        "\n",
        "class ElectricCar(car):\n",
        "        def __init__(self,vehicle_type,brand,battery_capacity):\n",
        "            super().__init__(vehicle_type,brand)\n",
        "            self.battery_capacity = battery_capacity\n",
        "\n",
        "\n",
        "car= ElectricCar(\"electric\",\"TATA\",100)\n",
        "print(f\"Type: {car.vehicle_type}, Brand: {car.brand}, Battery: {car.battery_capacity} kWh\")\n"
      ],
      "metadata": {
        "id": "EWXkY4oKA-6c",
        "colab": {
          "base_uri": "https://localhost:8080/"
        },
        "outputId": "0d6c5c69-a647-4cc3-8b2f-e26b2567b17d"
      },
      "execution_count": null,
      "outputs": [
        {
          "output_type": "stream",
          "name": "stdout",
          "text": [
            "Type: electric, Brand: TATA, Battery: 100 kWh\n"
          ]
        }
      ]
    },
    {
      "cell_type": "markdown",
      "source": [
        "**4.Demonstrate polymorphism by creating a base class Bird with a method fly(). Create two derived classes\n",
        "Sparrow and Penguin that override the fly() method.**"
      ],
      "metadata": {
        "id": "ff7iq1TdT-rK"
      }
    },
    {
      "cell_type": "code",
      "source": [
        "# Base class\n",
        "class Bird:\n",
        "    def fly(self):\n",
        "        print(\"This bird can fly.\")\n",
        "\n",
        "# Derived class Sparrow\n",
        "class Sparrow(Bird):\n",
        "    def fly(self):\n",
        "        print(\"Sparrow flies high in the sky.\")\n",
        "\n",
        "# Derived class Penguin\n",
        "class Penguin(Bird):\n",
        "    def fly(self):\n",
        "        print(\"Penguins can't fly, they waddle on land and swim in water.\")\n",
        "\n",
        "\n",
        "# List of birds\n",
        "birds = [Sparrow(), Penguin()]\n",
        "\n",
        "# Polymorphic behavior\n",
        "for bird in birds:\n",
        "    bird.fly()\n"
      ],
      "metadata": {
        "id": "I7F_CzpPd5Kn",
        "colab": {
          "base_uri": "https://localhost:8080/"
        },
        "outputId": "e119deda-dd4c-4dda-fbbc-b7b6ef3f29ee"
      },
      "execution_count": null,
      "outputs": [
        {
          "output_type": "stream",
          "name": "stdout",
          "text": [
            "Sparrow flies high in the sky.\n",
            "Penguins can't fly, they waddle on land and swim in water.\n"
          ]
        }
      ]
    },
    {
      "cell_type": "markdown",
      "source": [
        "**5.Write a program to demonstrate encapsulation by creating a class BankAccount with private attributes\n",
        "balance and methods to deposit, withdraw, and check balance.**"
      ],
      "metadata": {
        "id": "CEP-o6bedvby"
      }
    },
    {
      "cell_type": "code",
      "source": [
        "class bank_account:\n",
        "    def __init__(self):\n",
        "        self.__balance =0\n",
        "\n",
        "    def deposit(self,amount):\n",
        "        self.__balance+=amount\n",
        "        print(f\"deposit money RS {amount}\")\n",
        "\n",
        "    def withdraw(self,amount):\n",
        "        self.__balance-=amount\n",
        "        print(f\"withdrawn money RS {amount}\")\n",
        "\n",
        "    def check_balance(self):\n",
        "        print(f\"your balance is {self.__balance}\")\n",
        "\n",
        "account=bank_account()\n",
        "account.deposit(1000)\n",
        "account.withdraw(600)\n",
        "account.check_balance()\n",
        "\n"
      ],
      "metadata": {
        "colab": {
          "base_uri": "https://localhost:8080/"
        },
        "id": "QXllFCkbUG4j",
        "outputId": "87f8edb4-ed50-4ce7-b4dd-def4756dc4b2"
      },
      "execution_count": null,
      "outputs": [
        {
          "output_type": "stream",
          "name": "stdout",
          "text": [
            "deposit money RS 1000\n",
            "withdrawn money RS 600\n",
            "your balance is 400\n"
          ]
        }
      ]
    },
    {
      "cell_type": "markdown",
      "source": [
        "**6. Demonstrate runtime polymorphism using a method play() in a base class Instrument. Derive classes Guitar\n",
        "and Piano that implement their own version of play().**"
      ],
      "metadata": {
        "id": "r2Xm-JpHdpG_"
      }
    },
    {
      "cell_type": "code",
      "source": [
        "class Instrument:\n",
        "    def play(self):\n",
        "        print(\"Playing an instrument\")\n",
        "\n",
        "class Guitar(Instrument):\n",
        "    def play(self):\n",
        "        print(\"Strumming the guitar\")\n",
        "\n",
        "class Piano(Instrument):\n",
        "    def play(self):\n",
        "        print(\"Playing the piano\")\n",
        "\n",
        "# This function accepts any Instrument\n",
        "def play_music(instrument):\n",
        "    instrument.play()\n",
        "\n",
        "# Create objects\n",
        "g = Guitar()\n",
        "p = Piano()\n",
        "\n",
        "# Call function\n",
        "play_music(g)\n",
        "play_music(p)\n"
      ],
      "metadata": {
        "id": "OMwOBHgogfwv",
        "colab": {
          "base_uri": "https://localhost:8080/"
        },
        "outputId": "8beac162-97d8-4e01-d78d-88784747e351"
      },
      "execution_count": null,
      "outputs": [
        {
          "output_type": "stream",
          "name": "stdout",
          "text": [
            "Strumming the guitar\n",
            "Playing the piano\n"
          ]
        }
      ]
    },
    {
      "cell_type": "markdown",
      "source": [
        "**7.Create a class MathOperations with a class method add_numbers() to add two numbers and a static\n",
        "method subtract_numbers() to subtract two numbers.**"
      ],
      "metadata": {
        "id": "gDp38OaonU49"
      }
    },
    {
      "cell_type": "code",
      "source": [
        "class MathOperations:\n",
        "    @classmethod\n",
        "    def add_number(cls,x,y):\n",
        "        return x+y\n",
        "\n",
        "    @staticmethod\n",
        "    def subtract_numbers(x,y):\n",
        "        return x-y\n",
        "\n",
        "# Example usage :\n",
        "result1 = MathOperations.add_number(100,200)\n",
        "result2 = MathOperations.subtract_numbers(50,25)\n",
        "print(f\"Sum: {result1}\")\n",
        "print(f\"Difference: {result2}\")"
      ],
      "metadata": {
        "colab": {
          "base_uri": "https://localhost:8080/"
        },
        "id": "zirVJbbcnYme",
        "outputId": "cff5d9e3-7179-43be-eb7e-816721959869"
      },
      "execution_count": null,
      "outputs": [
        {
          "output_type": "stream",
          "name": "stdout",
          "text": [
            "Sum: 300\n",
            "Difference: 25\n"
          ]
        }
      ]
    },
    {
      "cell_type": "markdown",
      "source": [
        "**8. Implement a class Person with a class method to count the total number of persons created.**"
      ],
      "metadata": {
        "id": "f9Jfr1Cbry4D"
      }
    },
    {
      "cell_type": "code",
      "source": [
        "class person:\n",
        "    count = 0\n",
        "    def __init__(self,name):\n",
        "        self.name=name\n",
        "        person.count+=1\n",
        "    @classmethod\n",
        "    def total_person(cls):\n",
        "        return cls.count\n",
        "\n",
        "# Example usage :\n",
        "person1=person(\"Raj\")\n",
        "person2=person(\"Ram\")\n",
        "person3= person(\"Rahul\")\n",
        "person4=person(\"Sam\")\n",
        "\n",
        "print(f\"Total persons are: {person.total_person()}\")"
      ],
      "metadata": {
        "colab": {
          "base_uri": "https://localhost:8080/"
        },
        "id": "vW9aFZHwrxl3",
        "outputId": "234d9d2f-0f63-4c74-9466-42ade5bece07"
      },
      "execution_count": null,
      "outputs": [
        {
          "output_type": "stream",
          "name": "stdout",
          "text": [
            "Total persons are: 4\n"
          ]
        }
      ]
    },
    {
      "cell_type": "markdown",
      "source": [
        "**9. Write a class Fraction with attributes numerator and denominator. Override the str method to display the\n",
        "fraction as \"numerator/denominator\".**"
      ],
      "metadata": {
        "id": "1ZNpu4e6CFu6"
      }
    },
    {
      "cell_type": "code",
      "source": [
        "class Fraction:\n",
        "    def __init__(self,numerator,denominator):\n",
        "        self.numerator = numerator\n",
        "        self.denominator = denominator\n",
        "\n",
        "    def __str__(self):\n",
        "        return f\"{self.numerator}/{self.denominator}\"\n",
        "\n",
        "# Example usage:\n",
        "f = Fraction(4,2)\n",
        "print(f)"
      ],
      "metadata": {
        "colab": {
          "base_uri": "https://localhost:8080/"
        },
        "id": "j-OFCF98GKd_",
        "outputId": "014546a9-2ace-4eb1-ad59-4ffeb2c85a7c"
      },
      "execution_count": null,
      "outputs": [
        {
          "output_type": "stream",
          "name": "stdout",
          "text": [
            "4/2\n"
          ]
        }
      ]
    },
    {
      "cell_type": "markdown",
      "source": [
        "**10.Demonstrate operator overloading by creating a class Vector and overriding the add method to add two\n",
        "vectors.**"
      ],
      "metadata": {
        "id": "HmV6sdr-OWcI"
      }
    },
    {
      "cell_type": "code",
      "source": [
        "class vector :\n",
        "    def __init__(self,x,y):\n",
        "        self.x=x\n",
        "        self.y=y\n",
        "    def __add__(self,other):\n",
        "        return vector(self.x + other.x , self.y + other.y)\n",
        "\n",
        "# Example usage:\n",
        "v1=vector(3,4)\n",
        "v2=vector(5,8)\n",
        "v3=v1+v2\n",
        "\n",
        "print(v3.x,v3.y)"
      ],
      "metadata": {
        "colab": {
          "base_uri": "https://localhost:8080/"
        },
        "id": "xhGRqUk-OW4X",
        "outputId": "8311589f-3a1e-4b25-cb06-014d26311573"
      },
      "execution_count": null,
      "outputs": [
        {
          "output_type": "stream",
          "name": "stdout",
          "text": [
            "8 12\n"
          ]
        }
      ]
    },
    {
      "cell_type": "markdown",
      "source": [
        "**11.Create a class Person with attributes name and age. Add a method greet() that prints \"Hello, my name is\n",
        "{name} and I am {age} years old.\"**"
      ],
      "metadata": {
        "id": "9lHkZrOMYjSh"
      }
    },
    {
      "cell_type": "code",
      "source": [
        "class person:\n",
        "    def __init__(self,name,age):\n",
        "        self.name=name\n",
        "        self.age=age\n",
        "\n",
        "    def greet(self):\n",
        "        print( f\"Hello, my name is {self.name} and I am {self.age} years old\")\n",
        "\n",
        "# Example usage:\n",
        "g=person(\"Raj\",22)\n",
        "g.greet()\n"
      ],
      "metadata": {
        "colab": {
          "base_uri": "https://localhost:8080/"
        },
        "id": "BMqhHjOAYjwO",
        "outputId": "5a46a208-1324-4068-fa41-0521a62ccc02"
      },
      "execution_count": null,
      "outputs": [
        {
          "output_type": "stream",
          "name": "stdout",
          "text": [
            "Hello, my name is Raj and I am 22 years old\n"
          ]
        }
      ]
    },
    {
      "cell_type": "markdown",
      "source": [
        "**12.Implement a class Student with attributes name and grades. Create a method average_grade() to compute\n",
        "the average of the grades.**"
      ],
      "metadata": {
        "id": "GwZjhvtYgfQY"
      }
    },
    {
      "cell_type": "code",
      "source": [
        "class student :\n",
        "    def __init__(self, name , grades):\n",
        "        self.name = name\n",
        "        self.grades = grades\n",
        "\n",
        "    def  average_grade(self):\n",
        "        return sum(self.grades)/len(self.grades)\n",
        "\n",
        "\n",
        "# Example usage:\n",
        "s1=student(\"Raj\",[80,77,93])\n",
        "\n",
        "print(f\"{s1.name}'s average grade is: {s1.average_grade()}\")\n"
      ],
      "metadata": {
        "colab": {
          "base_uri": "https://localhost:8080/"
        },
        "id": "LvEdfy92gcDM",
        "outputId": "9f71b8c5-69eb-46ac-ac52-8044dc67642a"
      },
      "execution_count": null,
      "outputs": [
        {
          "output_type": "stream",
          "name": "stdout",
          "text": [
            "Raj's average grade is: 83.33333333333333\n"
          ]
        }
      ]
    },
    {
      "cell_type": "markdown",
      "source": [
        "**13.Create a class Rectangle with methods set_dimensions() to set the dimensions and area() to calculate the\n",
        "area.**\n",
        "\n"
      ],
      "metadata": {
        "id": "R_gpX_8umnEu"
      }
    },
    {
      "cell_type": "code",
      "source": [
        "class Rectangle:\n",
        "    def set_dimensions (self , width , height):\n",
        "        self.width = width\n",
        "        self.height = height\n",
        "\n",
        "    def area (self):\n",
        "        return self.width * self.height\n",
        "\n",
        "# Example usage:\n",
        "r1 = Rectangle()\n",
        "r1.set_dimensions(6,4)\n",
        "print(f\"Area of rectangle: {r1.area()}\")\n",
        "\n"
      ],
      "metadata": {
        "colab": {
          "base_uri": "https://localhost:8080/"
        },
        "id": "uHRTw_XomWkI",
        "outputId": "75628bcf-e24b-4503-bbd0-0b97a32e7dac"
      },
      "execution_count": null,
      "outputs": [
        {
          "output_type": "stream",
          "name": "stdout",
          "text": [
            "Area of rectangle: 24\n"
          ]
        }
      ]
    },
    {
      "cell_type": "markdown",
      "source": [
        "**14.Create a class Employee with a method calculate_salary() that computes the salary based on hours worked\n",
        "and hourly rate. Create a derived class Manager that adds a bonus to the salary**"
      ],
      "metadata": {
        "id": "4Uj3R1wQYDoJ"
      }
    },
    {
      "cell_type": "code",
      "source": [
        "class Employee:\n",
        "    def calculate_salary(self, hours_worked, hourly_rate):\n",
        "        return hours_worked * hourly_rate\n",
        "\n",
        "\n",
        "class Manager(Employee):\n",
        "    def calculate_salary(self, hours_worked, hourly_rate, bonus):\n",
        "        return super().calculate_salary(hours_worked, hourly_rate) + bonus\n",
        "\n",
        "\n",
        "# Example usage\n",
        "employee = Employee()\n",
        "manager = Manager()\n",
        "\n",
        "print(f\"Employee Salary: {employee.calculate_salary(40, 20)}\")\n",
        "print(f\"Manager Salary: {manager.calculate_salary(40, 30, 500)}\")"
      ],
      "metadata": {
        "colab": {
          "base_uri": "https://localhost:8080/"
        },
        "id": "od_JnaoOYEOE",
        "outputId": "2ee65056-9d15-4b4f-8a04-a532c7306818"
      },
      "execution_count": 1,
      "outputs": [
        {
          "output_type": "stream",
          "name": "stdout",
          "text": [
            "Employee Salary: 800\n",
            "Manager Salary: 1700\n"
          ]
        }
      ]
    },
    {
      "cell_type": "markdown",
      "source": [
        "**15.Create a class Product with attributes name, price, and quantity. Implement a method total_price() that\n",
        "calculates the total price of the product.**"
      ],
      "metadata": {
        "id": "ltW4x7WAgki-"
      }
    },
    {
      "cell_type": "code",
      "source": [
        "class product :\n",
        "    def __init__(self,name, price,quantity):\n",
        "        self.name = name\n",
        "        self.price = price\n",
        "        self.quantity = quantity\n",
        "\n",
        "    def total_price(self):\n",
        "        return self.price*self.quantity\n",
        "\n",
        "# Example usage:\n",
        "product=product(\"Apple\",10,4)\n",
        "print(f\"Total price of {product.quantity} {product.name}(s): {product.total_price()}\")\n",
        "\n",
        ""
      ],
      "metadata": {
        "colab": {
          "base_uri": "https://localhost:8080/"
        },
        "id": "Lm4AbamRa3Ux",
        "outputId": "98325bb4-eab8-40de-8c4b-9234e22475fc"
      },
      "execution_count": 2,
      "outputs": [
        {
          "output_type": "stream",
          "name": "stdout",
          "text": [
            "Total price of 4 Apple(s): 40\n"
          ]
        }
      ]
    },
    {
      "cell_type": "markdown",
      "source": [
        "**16.Create a class Animal with an abstract method sound(). Create two derived classes Cow and Sheep that\n",
        "implement the sound() method.**"
      ],
      "metadata": {
        "id": "lauc2uEBg4UI"
      }
    },
    {
      "cell_type": "code",
      "source": [
        "from abc import ABC, abstractmethod\n",
        "\n",
        "# Abstract class\n",
        "class Animal(ABC):\n",
        "    @abstractmethod\n",
        "    def sound(self):\n",
        "        pass\n",
        "\n",
        "# Derived class Cow\n",
        "class Cow(Animal):\n",
        "    def sound(self):\n",
        "        return \"Moo\"\n",
        "\n",
        "# Derived class Sheep\n",
        "class Sheep(Animal):\n",
        "    def sound(self):\n",
        "        return \"Baa\"\n",
        "\n",
        "# Example usage\n",
        "cow = Cow()\n",
        "sheep = Sheep()\n",
        "\n",
        "print(f\"Cow says: {cow.sound()}\")\n",
        "print(f\"Sheep says: {sheep.sound()}\")"
      ],
      "metadata": {
        "colab": {
          "base_uri": "https://localhost:8080/"
        },
        "id": "Ko_3ZjVXg54m",
        "outputId": "a5846a86-b750-4485-ac7c-9478f39de444"
      },
      "execution_count": 3,
      "outputs": [
        {
          "output_type": "stream",
          "name": "stdout",
          "text": [
            "Cow says: Moo\n",
            "Sheep says: Baa\n"
          ]
        }
      ]
    },
    {
      "cell_type": "markdown",
      "source": [
        "**17.Create a class Book with attributes title, author, and year_published. Add a method get_book_info() that\n",
        "returns a formatted string with the book's details.**"
      ],
      "metadata": {
        "id": "LigLOWZKoNVq"
      }
    },
    {
      "cell_type": "code",
      "source": [
        "class book:\n",
        "    def __init__(self,title, author_name, year_published):\n",
        "        self.title = title\n",
        "        self.authore_name = author_name\n",
        "        self.year_published = year_published\n",
        "\n",
        "    def get_book_info(self):\n",
        "        return f\"{self.title} by {self.authore_name} , published on {self.year_published}\"\n",
        "\n",
        "\n",
        "# Example usage\n",
        "book=book(\"Marvel comics\",\"Stan lee\",1961)\n",
        "print(book.get_book_info())"
      ],
      "metadata": {
        "colab": {
          "base_uri": "https://localhost:8080/"
        },
        "id": "sQsB5TKYoOMI",
        "outputId": "14942357-172c-4569-8f2b-944dddfa28e6"
      },
      "execution_count": 4,
      "outputs": [
        {
          "output_type": "stream",
          "name": "stdout",
          "text": [
            "Marvel comics by Stan lee , published on 1961\n"
          ]
        }
      ]
    },
    {
      "cell_type": "markdown",
      "source": [
        "**18. Create a class House with attributes address and price. Create a derived class Mansion that adds an\n",
        "attribute number_of_rooms.**"
      ],
      "metadata": {
        "id": "vPOFXP_coVAD"
      }
    },
    {
      "cell_type": "code",
      "source": [
        "class House:\n",
        "    def __init__(self, address, price):\n",
        "        self.address = address\n",
        "        self.price = price\n",
        "\n",
        "class Mansion(House):\n",
        "    def __init__(self, address, price, number_of_rooms):\n",
        "        super().__init__(address, price)  # Initialize attributes of House\n",
        "        self.number_of_rooms = number_of_rooms\n",
        "\n",
        "# Example usage\n",
        "house = House(\"123 Main St\", 500000)\n",
        "mansion = Mansion(\"456 Grand Ave\", 2000000, 10)\n",
        "\n",
        "print(f\"House: Address = {house.address}, Price = {house.price}\")\n",
        "print(f\"Mansion: Address = {mansion.address}, Price = {mansion.price}, Number of Rooms = {mansion.number_of_rooms}\")"
      ],
      "metadata": {
        "colab": {
          "base_uri": "https://localhost:8080/"
        },
        "id": "0r7bqSCEoVXS",
        "outputId": "c0ee109e-763e-458c-ac5c-3978d2ee0db4"
      },
      "execution_count": 5,
      "outputs": [
        {
          "output_type": "stream",
          "name": "stdout",
          "text": [
            "House: Address = 123 Main St, Price = 500000\n",
            "Mansion: Address = 456 Grand Ave, Price = 2000000, Number of Rooms = 10\n"
          ]
        }
      ]
    },
    {
      "cell_type": "code",
      "source": [],
      "metadata": {
        "id": "kXUCIivypJjj"
      },
      "execution_count": null,
      "outputs": []
    }
  ]
}